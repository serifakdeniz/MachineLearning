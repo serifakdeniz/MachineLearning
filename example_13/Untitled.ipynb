{
 "cells": [
  {
   "cell_type": "code",
   "execution_count": 1,
   "id": "428062ea-3852-41e5-bbea-455f45e52eda",
   "metadata": {},
   "outputs": [],
   "source": [
    "# Kategorisel verileri numeric verilere çeviriyor\n",
    "# --> [\"bjk\",\"gs\",\"bjk\",\"fb\"] , [0,1,0,2]\n",
    "# --> dummy ---> [\"bjk\",\"gs\",\"bjk\",\"fb\"] ,[[1,0,0],[0,1,0],[1,0,0],[0,0,1]]\n",
    "# --> dummy bağımlı değişkenlerde kullanılması zor"
   ]
  },
  {
   "cell_type": "code",
   "execution_count": 2,
   "id": "8003fe65-aa76-4e69-bfa6-0c45b0d971c4",
   "metadata": {},
   "outputs": [],
   "source": [
    "import pandas as pd\n",
    "import numpy as np\n",
    "from sklearn.preprocessing import LabelEncoder"
   ]
  },
  {
   "cell_type": "code",
   "execution_count": 4,
   "id": "ffb2b51b-3963-4ba3-86ed-4fa4f03f5be8",
   "metadata": {},
   "outputs": [],
   "source": [
    "df=pd.read_csv('tdf.csv')"
   ]
  },
  {
   "cell_type": "code",
   "execution_count": 5,
   "id": "25577d53-647d-4b6a-9977-1390cf729ddc",
   "metadata": {},
   "outputs": [
    {
     "data": {
      "text/html": [
       "<div>\n",
       "<style scoped>\n",
       "    .dataframe tbody tr th:only-of-type {\n",
       "        vertical-align: middle;\n",
       "    }\n",
       "\n",
       "    .dataframe tbody tr th {\n",
       "        vertical-align: top;\n",
       "    }\n",
       "\n",
       "    .dataframe thead th {\n",
       "        text-align: right;\n",
       "    }\n",
       "</style>\n",
       "<table border=\"1\" class=\"dataframe\">\n",
       "  <thead>\n",
       "    <tr style=\"text-align: right;\">\n",
       "      <th></th>\n",
       "      <th>Year</th>\n",
       "      <th>Tour_No</th>\n",
       "      <th>Winner</th>\n",
       "      <th>Country</th>\n",
       "      <th>Team</th>\n",
       "      <th>Tour_overall_length_(km)</th>\n",
       "      <th>age</th>\n",
       "      <th>BMI</th>\n",
       "      <th>weight_(Kg)</th>\n",
       "      <th>height_(m)</th>\n",
       "      <th>rider_type_(PPS)</th>\n",
       "      <th>close_rider_type_(PPS)</th>\n",
       "    </tr>\n",
       "  </thead>\n",
       "  <tbody>\n",
       "    <tr>\n",
       "      <th>0</th>\n",
       "      <td>2023</td>\n",
       "      <td>110</td>\n",
       "      <td>Jonas Vingegaard</td>\n",
       "      <td>Denmark</td>\n",
       "      <td>Team Jumbo Visma</td>\n",
       "      <td>3406</td>\n",
       "      <td>25</td>\n",
       "      <td>19.6</td>\n",
       "      <td>60.0</td>\n",
       "      <td>1.749636</td>\n",
       "      <td>climber</td>\n",
       "      <td>NaN</td>\n",
       "    </tr>\n",
       "    <tr>\n",
       "      <th>1</th>\n",
       "      <td>2022</td>\n",
       "      <td>109</td>\n",
       "      <td>Jonas Vingegaard</td>\n",
       "      <td>Denmark</td>\n",
       "      <td>Team Jumbo Visma</td>\n",
       "      <td>3328</td>\n",
       "      <td>25</td>\n",
       "      <td>19.6</td>\n",
       "      <td>60.0</td>\n",
       "      <td>1.749636</td>\n",
       "      <td>climber</td>\n",
       "      <td>NaN</td>\n",
       "    </tr>\n",
       "    <tr>\n",
       "      <th>2</th>\n",
       "      <td>2021</td>\n",
       "      <td>108</td>\n",
       "      <td>Tadej Pogacar</td>\n",
       "      <td>Slovenia</td>\n",
       "      <td>UAE Team Emirates</td>\n",
       "      <td>3383</td>\n",
       "      <td>22</td>\n",
       "      <td>21.3</td>\n",
       "      <td>66.0</td>\n",
       "      <td>1.760282</td>\n",
       "      <td>climber</td>\n",
       "      <td>NaN</td>\n",
       "    </tr>\n",
       "  </tbody>\n",
       "</table>\n",
       "</div>"
      ],
      "text/plain": [
       "   Year  Tour_No            Winner   Country               Team  \\\n",
       "0  2023      110  Jonas Vingegaard   Denmark   Team Jumbo Visma   \n",
       "1  2022      109  Jonas Vingegaard   Denmark   Team Jumbo Visma   \n",
       "2  2021      108     Tadej Pogacar  Slovenia  UAE Team Emirates   \n",
       "\n",
       "  Tour_overall_length_(km)  age   BMI  weight_(Kg)  height_(m)  \\\n",
       "0                     3406   25  19.6         60.0    1.749636   \n",
       "1                     3328   25  19.6         60.0    1.749636   \n",
       "2                     3383   22  21.3         66.0    1.760282   \n",
       "\n",
       "  rider_type_(PPS) close_rider_type_(PPS)  \n",
       "0          climber                    NaN  \n",
       "1          climber                    NaN  \n",
       "2          climber                    NaN  "
      ]
     },
     "execution_count": 5,
     "metadata": {},
     "output_type": "execute_result"
    }
   ],
   "source": [
    "df.head(3)"
   ]
  },
  {
   "cell_type": "code",
   "execution_count": 6,
   "id": "a6a74804-b8ea-4760-9647-da69756f4fda",
   "metadata": {},
   "outputs": [
    {
     "data": {
      "text/plain": [
       "array(['Team Jumbo Visma', 'UAE Team Emirates', 'Team Ineos ', 'Team Sky',\n",
       "       'Astana Pro Team', 'BMC Racing Team', 'Team Saxo Bank', 'Astana',\n",
       "       'Team CSC Saxo Bank', 'Discovery Channel', \"Caisse d'Epargne\",\n",
       "       'US Postal Service', 'Mercatone Uno', 'Telekom', 'Banesto',\n",
       "       'Z Tomasso', 'ADR', 'Reynolds', 'Carrera', 'La Vie Claire',\n",
       "       'Renault', 'TI Raleigh', 'Peugeot', 'Gitane', 'Molteni', 'Bic',\n",
       "       'Faemino', 'Faema', 'Holland', 'France', 'Ford', 'Salvarini',\n",
       "       'St-Raphael', 'Italy', 'Spain', 'Holland Luxembourg',\n",
       "       'Nord Est Centre', 'Switzerland', 'Ouest', 'Belgium', 'Alcyon',\n",
       "       'Automoto', 'Cycles Peugeot', 'La Sportive', 'Alycon', 'Cycles JC',\n",
       "       'La Francaise'], dtype=object)"
      ]
     },
     "execution_count": 6,
     "metadata": {},
     "output_type": "execute_result"
    }
   ],
   "source": [
    "df['Team'].unique()"
   ]
  },
  {
   "cell_type": "code",
   "execution_count": 8,
   "id": "1e093cbf-6f2a-4526-b70e-5adb6777bcab",
   "metadata": {},
   "outputs": [
    {
     "data": {
      "text/html": [
       "<style>#sk-container-id-1 {color: black;}#sk-container-id-1 pre{padding: 0;}#sk-container-id-1 div.sk-toggleable {background-color: white;}#sk-container-id-1 label.sk-toggleable__label {cursor: pointer;display: block;width: 100%;margin-bottom: 0;padding: 0.3em;box-sizing: border-box;text-align: center;}#sk-container-id-1 label.sk-toggleable__label-arrow:before {content: \"▸\";float: left;margin-right: 0.25em;color: #696969;}#sk-container-id-1 label.sk-toggleable__label-arrow:hover:before {color: black;}#sk-container-id-1 div.sk-estimator:hover label.sk-toggleable__label-arrow:before {color: black;}#sk-container-id-1 div.sk-toggleable__content {max-height: 0;max-width: 0;overflow: hidden;text-align: left;background-color: #f0f8ff;}#sk-container-id-1 div.sk-toggleable__content pre {margin: 0.2em;color: black;border-radius: 0.25em;background-color: #f0f8ff;}#sk-container-id-1 input.sk-toggleable__control:checked~div.sk-toggleable__content {max-height: 200px;max-width: 100%;overflow: auto;}#sk-container-id-1 input.sk-toggleable__control:checked~label.sk-toggleable__label-arrow:before {content: \"▾\";}#sk-container-id-1 div.sk-estimator input.sk-toggleable__control:checked~label.sk-toggleable__label {background-color: #d4ebff;}#sk-container-id-1 div.sk-label input.sk-toggleable__control:checked~label.sk-toggleable__label {background-color: #d4ebff;}#sk-container-id-1 input.sk-hidden--visually {border: 0;clip: rect(1px 1px 1px 1px);clip: rect(1px, 1px, 1px, 1px);height: 1px;margin: -1px;overflow: hidden;padding: 0;position: absolute;width: 1px;}#sk-container-id-1 div.sk-estimator {font-family: monospace;background-color: #f0f8ff;border: 1px dotted black;border-radius: 0.25em;box-sizing: border-box;margin-bottom: 0.5em;}#sk-container-id-1 div.sk-estimator:hover {background-color: #d4ebff;}#sk-container-id-1 div.sk-parallel-item::after {content: \"\";width: 100%;border-bottom: 1px solid gray;flex-grow: 1;}#sk-container-id-1 div.sk-label:hover label.sk-toggleable__label {background-color: #d4ebff;}#sk-container-id-1 div.sk-serial::before {content: \"\";position: absolute;border-left: 1px solid gray;box-sizing: border-box;top: 0;bottom: 0;left: 50%;z-index: 0;}#sk-container-id-1 div.sk-serial {display: flex;flex-direction: column;align-items: center;background-color: white;padding-right: 0.2em;padding-left: 0.2em;position: relative;}#sk-container-id-1 div.sk-item {position: relative;z-index: 1;}#sk-container-id-1 div.sk-parallel {display: flex;align-items: stretch;justify-content: center;background-color: white;position: relative;}#sk-container-id-1 div.sk-item::before, #sk-container-id-1 div.sk-parallel-item::before {content: \"\";position: absolute;border-left: 1px solid gray;box-sizing: border-box;top: 0;bottom: 0;left: 50%;z-index: -1;}#sk-container-id-1 div.sk-parallel-item {display: flex;flex-direction: column;z-index: 1;position: relative;background-color: white;}#sk-container-id-1 div.sk-parallel-item:first-child::after {align-self: flex-end;width: 50%;}#sk-container-id-1 div.sk-parallel-item:last-child::after {align-self: flex-start;width: 50%;}#sk-container-id-1 div.sk-parallel-item:only-child::after {width: 0;}#sk-container-id-1 div.sk-dashed-wrapped {border: 1px dashed gray;margin: 0 0.4em 0.5em 0.4em;box-sizing: border-box;padding-bottom: 0.4em;background-color: white;}#sk-container-id-1 div.sk-label label {font-family: monospace;font-weight: bold;display: inline-block;line-height: 1.2em;}#sk-container-id-1 div.sk-label-container {text-align: center;}#sk-container-id-1 div.sk-container {/* jupyter's `normalize.less` sets `[hidden] { display: none; }` but bootstrap.min.css set `[hidden] { display: none !important; }` so we also need the `!important` here to be able to override the default hidden behavior on the sphinx rendered scikit-learn.org. See: https://github.com/scikit-learn/scikit-learn/issues/21755 */display: inline-block !important;position: relative;}#sk-container-id-1 div.sk-text-repr-fallback {display: none;}</style><div id=\"sk-container-id-1\" class=\"sk-top-container\"><div class=\"sk-text-repr-fallback\"><pre>LabelEncoder()</pre><b>In a Jupyter environment, please rerun this cell to show the HTML representation or trust the notebook. <br />On GitHub, the HTML representation is unable to render, please try loading this page with nbviewer.org.</b></div><div class=\"sk-container\" hidden><div class=\"sk-item\"><div class=\"sk-estimator sk-toggleable\"><input class=\"sk-toggleable__control sk-hidden--visually\" id=\"sk-estimator-id-1\" type=\"checkbox\" checked><label for=\"sk-estimator-id-1\" class=\"sk-toggleable__label sk-toggleable__label-arrow\">LabelEncoder</label><div class=\"sk-toggleable__content\"><pre>LabelEncoder()</pre></div></div></div></div></div>"
      ],
      "text/plain": [
       "LabelEncoder()"
      ]
     },
     "execution_count": 8,
     "metadata": {},
     "output_type": "execute_result"
    }
   ],
   "source": [
    "le=LabelEncoder()\n",
    "le.fit(df['Team'])\n"
   ]
  },
  {
   "cell_type": "code",
   "execution_count": 14,
   "id": "bb1709ab-717a-479f-96ac-536bfa345453",
   "metadata": {},
   "outputs": [],
   "source": [
    "x=le.transform(df['Team'])"
   ]
  },
  {
   "cell_type": "code",
   "execution_count": 15,
   "id": "f60c4427-0027-411a-923b-b066660c5aa7",
   "metadata": {},
   "outputs": [
    {
     "data": {
      "text/plain": [
       "array(['ADR', 'Alcyon', 'Alycon', 'Astana', 'Astana Pro Team', 'Automoto',\n",
       "       'BMC Racing Team', 'Banesto', 'Belgium', 'Bic', \"Caisse d'Epargne\",\n",
       "       'Carrera', 'Cycles JC', 'Cycles Peugeot', 'Discovery Channel',\n",
       "       'Faema', 'Faemino', 'Ford', 'France', 'Gitane', 'Holland',\n",
       "       'Holland Luxembourg', 'Italy', 'La Francaise', 'La Sportive',\n",
       "       'La Vie Claire', 'Mercatone Uno', 'Molteni', 'Nord Est Centre',\n",
       "       'Ouest', 'Peugeot', 'Renault', 'Reynolds', 'Salvarini', 'Spain',\n",
       "       'St-Raphael', 'Switzerland', 'TI Raleigh', 'Team CSC Saxo Bank',\n",
       "       'Team Ineos ', 'Team Jumbo Visma', 'Team Saxo Bank', 'Team Sky',\n",
       "       'Telekom', 'UAE Team Emirates', 'US Postal Service', 'Z Tomasso'],\n",
       "      dtype=object)"
      ]
     },
     "execution_count": 15,
     "metadata": {},
     "output_type": "execute_result"
    }
   ],
   "source": [
    "le.classes_"
   ]
  },
  {
   "cell_type": "code",
   "execution_count": 16,
   "id": "e2037153-c995-4a93-9479-ac3643c694df",
   "metadata": {},
   "outputs": [
    {
     "data": {
      "text/plain": [
       "array([40, 40, 44, 44, 39, 42, 42, 42, 42,  4, 42, 42,  6, 41,  3, 38, 14,\n",
       "       10, 14, 45, 45, 45, 45, 45, 45, 26, 43, 43,  7,  7,  7,  7,  7, 46,\n",
       "        0, 32, 11, 25, 25, 31, 31, 31, 31, 37, 31, 31, 30, 19, 30, 27,  9,\n",
       "       27, 27, 16, 15, 20, 18, 17, 33, 35, 35, 35, 18, 22, 34, 21, 18, 28,\n",
       "       18, 18, 18, 22, 36, 36, 22, 22, 29,  8, 22, 18,  8,  8, 18, 18, 18,\n",
       "       18, 18,  1,  1,  1,  5,  5,  5,  5, 13, 24, 24, 24, 13, 13,  2,  2,\n",
       "        2,  2, 13, 13, 13, 13, 12, 23])"
      ]
     },
     "execution_count": 16,
     "metadata": {},
     "output_type": "execute_result"
    }
   ],
   "source": [
    "x"
   ]
  },
  {
   "cell_type": "code",
   "execution_count": 17,
   "id": "cc01a972-c4dd-44b9-b1a3-2f2c2d74380e",
   "metadata": {},
   "outputs": [
    {
     "data": {
      "text/plain": [
       "array(['Team Jumbo Visma', 'Team Jumbo Visma', 'UAE Team Emirates',\n",
       "       'UAE Team Emirates', 'Team Ineos ', 'Team Sky', 'Team Sky',\n",
       "       'Team Sky', 'Team Sky', 'Astana Pro Team', 'Team Sky', 'Team Sky',\n",
       "       'BMC Racing Team', 'Team Saxo Bank', 'Astana',\n",
       "       'Team CSC Saxo Bank', 'Discovery Channel', \"Caisse d'Epargne\",\n",
       "       'Discovery Channel', 'US Postal Service', 'US Postal Service',\n",
       "       'US Postal Service', 'US Postal Service', 'US Postal Service',\n",
       "       'US Postal Service', 'Mercatone Uno', 'Telekom', 'Telekom',\n",
       "       'Banesto', 'Banesto', 'Banesto', 'Banesto', 'Banesto', 'Z Tomasso',\n",
       "       'ADR', 'Reynolds', 'Carrera', 'La Vie Claire', 'La Vie Claire',\n",
       "       'Renault', 'Renault', 'Renault', 'Renault', 'TI Raleigh',\n",
       "       'Renault', 'Renault', 'Peugeot', 'Gitane', 'Peugeot', 'Molteni',\n",
       "       'Bic', 'Molteni', 'Molteni', 'Faemino', 'Faema', 'Holland',\n",
       "       'France', 'Ford', 'Salvarini', 'St-Raphael', 'St-Raphael',\n",
       "       'St-Raphael', 'France', 'Italy', 'Spain', 'Holland Luxembourg',\n",
       "       'France', 'Nord Est Centre', 'France', 'France', 'France', 'Italy',\n",
       "       'Switzerland', 'Switzerland', 'Italy', 'Italy', 'Ouest', 'Belgium',\n",
       "       'Italy', 'France', 'Belgium', 'Belgium', 'France', 'France',\n",
       "       'France', 'France', 'France', 'Alcyon', 'Alcyon', 'Alcyon',\n",
       "       'Automoto', 'Automoto', 'Automoto', 'Automoto', 'Cycles Peugeot',\n",
       "       'La Sportive', 'La Sportive', 'La Sportive', 'Cycles Peugeot',\n",
       "       'Cycles Peugeot', 'Alycon', 'Alycon', 'Alycon', 'Alycon',\n",
       "       'Cycles Peugeot', 'Cycles Peugeot', 'Cycles Peugeot',\n",
       "       'Cycles Peugeot', 'Cycles JC', 'La Francaise'], dtype=object)"
      ]
     },
     "execution_count": 17,
     "metadata": {},
     "output_type": "execute_result"
    }
   ],
   "source": [
    "le.inverse_transform(x)"
   ]
  },
  {
   "cell_type": "code",
   "execution_count": 18,
   "id": "68c195c6-6747-4db9-a07e-01da1599aba7",
   "metadata": {},
   "outputs": [],
   "source": [
    "le2=LabelEncoder()"
   ]
  },
  {
   "cell_type": "code",
   "execution_count": 20,
   "id": "6e0feeab-63fa-4784-8357-ea9cc6444d2b",
   "metadata": {},
   "outputs": [
    {
     "data": {
      "text/plain": [
       "array([40, 40, 44, 44, 39, 42, 42, 42, 42,  4, 42, 42,  6, 41,  3, 38, 14,\n",
       "       10, 14, 45, 45, 45, 45, 45, 45, 26, 43, 43,  7,  7,  7,  7,  7, 46,\n",
       "        0, 32, 11, 25, 25, 31, 31, 31, 31, 37, 31, 31, 30, 19, 30, 27,  9,\n",
       "       27, 27, 16, 15, 20, 18, 17, 33, 35, 35, 35, 18, 22, 34, 21, 18, 28,\n",
       "       18, 18, 18, 22, 36, 36, 22, 22, 29,  8, 22, 18,  8,  8, 18, 18, 18,\n",
       "       18, 18,  1,  1,  1,  5,  5,  5,  5, 13, 24, 24, 24, 13, 13,  2,  2,\n",
       "        2,  2, 13, 13, 13, 13, 12, 23])"
      ]
     },
     "execution_count": 20,
     "metadata": {},
     "output_type": "execute_result"
    }
   ],
   "source": [
    "le2.fit_transform(df['Team'])"
   ]
  },
  {
   "cell_type": "code",
   "execution_count": null,
   "id": "b4c7d72d-d8e2-4ba4-8fb0-2c55b0ac4d01",
   "metadata": {},
   "outputs": [],
   "source": []
  }
 ],
 "metadata": {
  "kernelspec": {
   "display_name": "Python 3 (ipykernel)",
   "language": "python",
   "name": "python3"
  },
  "language_info": {
   "codemirror_mode": {
    "name": "ipython",
    "version": 3
   },
   "file_extension": ".py",
   "mimetype": "text/x-python",
   "name": "python",
   "nbconvert_exporter": "python",
   "pygments_lexer": "ipython3",
   "version": "3.11.4"
  }
 },
 "nbformat": 4,
 "nbformat_minor": 5
}
