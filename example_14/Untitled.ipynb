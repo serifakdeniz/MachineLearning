{
 "cells": [
  {
   "cell_type": "code",
   "execution_count": 10,
   "id": "27702f0d-f9b2-4cf6-a351-ce944915b478",
   "metadata": {},
   "outputs": [],
   "source": [
    "import pandas as pd \n",
    "import numpy as np\n",
    "from sklearn.feature_extraction.text import CountVectorizer"
   ]
  },
  {
   "cell_type": "code",
   "execution_count": 40,
   "id": "5bce9787-85db-4e5c-b03b-3b74ede27ee2",
   "metadata": {},
   "outputs": [],
   "source": [
    "df=pd.DataFrame()"
   ]
  },
  {
   "cell_type": "code",
   "execution_count": 41,
   "id": "94e6fb12-f166-4d00-9770-e249f4ac93a4",
   "metadata": {},
   "outputs": [],
   "source": [
    "df['cumleler']=[\"ali bak\",\"ali ata bak\",\"bak ali bak\",\"ali guzel ata bak\",\"emel ılık sut iç\",\"emel sut iç\",\"iç emel içi\"]"
   ]
  },
  {
   "cell_type": "code",
   "execution_count": 42,
   "id": "71ef8c28-357b-417b-ab2d-afdbaffc058f",
   "metadata": {},
   "outputs": [],
   "source": [
    "cv=CountVectorizer(max_features=4)"
   ]
  },
  {
   "cell_type": "code",
   "execution_count": 43,
   "id": "714b472c-834b-45b2-9f93-97c1933ba0cf",
   "metadata": {},
   "outputs": [],
   "source": [
    "a=cv.fit_transform(df['cumleler'])"
   ]
  },
  {
   "cell_type": "code",
   "execution_count": 44,
   "id": "61d9a39b-15ae-4352-b96f-e62c56366f0e",
   "metadata": {},
   "outputs": [
    {
     "data": {
      "text/plain": [
       "array([[1, 1, 0, 0],\n",
       "       [1, 1, 0, 0],\n",
       "       [1, 2, 0, 0],\n",
       "       [1, 1, 0, 0],\n",
       "       [0, 0, 1, 1],\n",
       "       [0, 0, 1, 1],\n",
       "       [0, 0, 1, 1]], dtype=int64)"
      ]
     },
     "execution_count": 44,
     "metadata": {},
     "output_type": "execute_result"
    }
   ],
   "source": [
    "x=a.toarray()"
   ]
  },
  {
   "cell_type": "code",
   "execution_count": 45,
   "id": "e055a213-019f-4b22-b69f-55b5fffd3728",
   "metadata": {},
   "outputs": [
    {
     "data": {
      "text/plain": [
       "array(['ali', 'bak', 'emel', 'iç'], dtype=object)"
      ]
     },
     "execution_count": 45,
     "metadata": {},
     "output_type": "execute_result"
    }
   ],
   "source": [
    "cv.get_feature_names_out()"
   ]
  },
  {
   "cell_type": "code",
   "execution_count": null,
   "id": "e580374f-af17-44bc-886b-541b135262df",
   "metadata": {},
   "outputs": [],
   "source": []
  }
 ],
 "metadata": {
  "kernelspec": {
   "display_name": "Python 3 (ipykernel)",
   "language": "python",
   "name": "python3"
  },
  "language_info": {
   "codemirror_mode": {
    "name": "ipython",
    "version": 3
   },
   "file_extension": ".py",
   "mimetype": "text/x-python",
   "name": "python",
   "nbconvert_exporter": "python",
   "pygments_lexer": "ipython3",
   "version": "3.11.4"
  }
 },
 "nbformat": 4,
 "nbformat_minor": 5
}
