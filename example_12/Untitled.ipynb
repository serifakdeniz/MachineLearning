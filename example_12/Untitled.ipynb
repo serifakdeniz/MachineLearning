{
 "cells": [
  {
   "cell_type": "code",
   "execution_count": 65,
   "id": "0915cb9c-571a-4c22-80d0-48728fb4bacd",
   "metadata": {},
   "outputs": [],
   "source": [
    "import pandas as pd \n",
    "import numpy as np \n",
    "from sklearn.preprocessing import StandardScaler,MinMaxScaler"
   ]
  },
  {
   "cell_type": "code",
   "execution_count": 66,
   "id": "6fec848b-2c68-42e1-8787-4107ed90a797",
   "metadata": {},
   "outputs": [],
   "source": [
    "df=pd.read_csv('Plane Price.csv')"
   ]
  },
  {
   "cell_type": "code",
   "execution_count": 67,
   "id": "1c6b82bd-5c57-40c2-9a07-c61b8b7bdf0b",
   "metadata": {},
   "outputs": [
    {
     "name": "stdout",
     "output_type": "stream",
     "text": [
      "<class 'pandas.core.frame.DataFrame'>\n",
      "RangeIndex: 517 entries, 0 to 516\n",
      "Data columns (total 16 columns):\n",
      " #   Column                   Non-Null Count  Dtype  \n",
      "---  ------                   --------------  -----  \n",
      " 0   Model Name               517 non-null    object \n",
      " 1   Engine Type              517 non-null    object \n",
      " 2   HP or lbs thr ea engine  517 non-null    object \n",
      " 3   Max speed Knots          497 non-null    object \n",
      " 4   Rcmnd cruise Knots       507 non-null    float64\n",
      " 5   Stall Knots dirty        502 non-null    float64\n",
      " 6   Fuel gal/lbs             517 non-null    int64  \n",
      " 7   All eng rate of climb    513 non-null    object \n",
      " 8   Eng out rate of climb    491 non-null    float64\n",
      " 9   Takeoff over 50ft        492 non-null    float64\n",
      " 10  Landing over 50ft        517 non-null    object \n",
      " 11  Empty weight lbs         516 non-null    object \n",
      " 12  Length ft/in             517 non-null    object \n",
      " 13  Wing span ft/in          517 non-null    object \n",
      " 14  Range N.M.               499 non-null    object \n",
      " 15  Price                    507 non-null    float64\n",
      "dtypes: float64(5), int64(1), object(10)\n",
      "memory usage: 64.8+ KB\n"
     ]
    }
   ],
   "source": [
    "df.info()"
   ]
  },
  {
   "cell_type": "code",
   "execution_count": 68,
   "id": "df8a735b-f12c-4337-908f-9774a0642221",
   "metadata": {},
   "outputs": [],
   "source": [
    "df=df[[\"Rcmnd cruise Knots\",\"Stall Knots dirty\",\"Fuel gal/lbs\",\"Eng out rate of climb\",\"Takeoff over 50ft\",\"Price\"]]\n",
    "df=df.dropna()"
   ]
  },
  {
   "cell_type": "code",
   "execution_count": 69,
   "id": "b7b0518b-6e64-4ecb-87c8-8194295de54c",
   "metadata": {},
   "outputs": [],
   "source": [
    "y=df['Price']\n",
    "x=df.drop(\"Price\",axis=1)"
   ]
  },
  {
   "cell_type": "code",
   "execution_count": 70,
   "id": "98b705a2-4f66-472c-a496-d1396147a2c5",
   "metadata": {},
   "outputs": [],
   "source": [
    "ss=StandardScaler()\n",
    "x2=ss.fit_transform(x)"
   ]
  },
  {
   "cell_type": "code",
   "execution_count": 71,
   "id": "76a9b302-1cac-4b53-920e-478b037ee971",
   "metadata": {},
   "outputs": [
    {
     "data": {
      "text/plain": [
       "array([[-1.06863918, -0.909101  , -0.30117434, -1.01035646, -0.57001946],\n",
       "       [-1.14883988, -1.03201259, -0.30656316, -1.17667595, -1.2809652 ],\n",
       "       [-1.19896532, -1.46220314, -0.30553672, -1.40305525, -1.20987063],\n",
       "       ...,\n",
       "       [ 0.77597697,  1.61058654, -0.21033431,  1.14255695,  1.87136822],\n",
       "       [ 0.72585153,  0.9960286 , -0.21238719,  0.87459777,  1.05946818],\n",
       "       [ 0.71582644,  0.87311702, -0.21238719, -0.01243951,  1.10781249]])"
      ]
     },
     "execution_count": 71,
     "metadata": {},
     "output_type": "execute_result"
    }
   ],
   "source": [
    "x2"
   ]
  },
  {
   "cell_type": "code",
   "execution_count": 72,
   "id": "e16b590d-e9bd-449b-b31d-68942db31afa",
   "metadata": {},
   "outputs": [
    {
     "data": {
      "text/plain": [
       "-6.077010240053489e-17"
      ]
     },
     "execution_count": 72,
     "metadata": {},
     "output_type": "execute_result"
    }
   ],
   "source": [
    "np.mean(x2)"
   ]
  },
  {
   "cell_type": "code",
   "execution_count": 73,
   "id": "c8e665b3-23e6-4878-bc3d-0e5c526c3bf7",
   "metadata": {},
   "outputs": [
    {
     "data": {
      "text/plain": [
       "array([[-1.06863918, -0.909101  , -0.30117434, -1.01035646, -0.57001946],\n",
       "       [-1.14883988, -1.03201259, -0.30656316, -1.17667595, -1.2809652 ],\n",
       "       [-1.19896532, -1.46220314, -0.30553672, -1.40305525, -1.20987063],\n",
       "       ...,\n",
       "       [ 0.77597697,  1.61058654, -0.21033431,  1.14255695,  1.87136822],\n",
       "       [ 0.72585153,  0.9960286 , -0.21238719,  0.87459777,  1.05946818],\n",
       "       [ 0.71582644,  0.87311702, -0.21238719, -0.01243951,  1.10781249]])"
      ]
     },
     "execution_count": 73,
     "metadata": {},
     "output_type": "execute_result"
    }
   ],
   "source": [
    "x2\n"
   ]
  },
  {
   "cell_type": "code",
   "execution_count": 74,
   "id": "751428f9-5111-4772-88f9-9092c9620d56",
   "metadata": {},
   "outputs": [],
   "source": [
    "x2=pd.DataFrame(x2)"
   ]
  },
  {
   "cell_type": "code",
   "execution_count": 75,
   "id": "40aa3b66-4e7d-4c02-b34b-3fdf37fd883c",
   "metadata": {},
   "outputs": [
    {
     "data": {
      "text/html": [
       "<div>\n",
       "<style scoped>\n",
       "    .dataframe tbody tr th:only-of-type {\n",
       "        vertical-align: middle;\n",
       "    }\n",
       "\n",
       "    .dataframe tbody tr th {\n",
       "        vertical-align: top;\n",
       "    }\n",
       "\n",
       "    .dataframe thead th {\n",
       "        text-align: right;\n",
       "    }\n",
       "</style>\n",
       "<table border=\"1\" class=\"dataframe\">\n",
       "  <thead>\n",
       "    <tr style=\"text-align: right;\">\n",
       "      <th></th>\n",
       "      <th>0</th>\n",
       "      <th>1</th>\n",
       "      <th>2</th>\n",
       "      <th>3</th>\n",
       "      <th>4</th>\n",
       "    </tr>\n",
       "  </thead>\n",
       "  <tbody>\n",
       "    <tr>\n",
       "      <th>0</th>\n",
       "      <td>-1.068639</td>\n",
       "      <td>-0.909101</td>\n",
       "      <td>-0.301174</td>\n",
       "      <td>-1.010356</td>\n",
       "      <td>-0.570019</td>\n",
       "    </tr>\n",
       "    <tr>\n",
       "      <th>1</th>\n",
       "      <td>-1.148840</td>\n",
       "      <td>-1.032013</td>\n",
       "      <td>-0.306563</td>\n",
       "      <td>-1.176676</td>\n",
       "      <td>-1.280965</td>\n",
       "    </tr>\n",
       "    <tr>\n",
       "      <th>2</th>\n",
       "      <td>-1.198965</td>\n",
       "      <td>-1.462203</td>\n",
       "      <td>-0.305537</td>\n",
       "      <td>-1.403055</td>\n",
       "      <td>-1.209871</td>\n",
       "    </tr>\n",
       "  </tbody>\n",
       "</table>\n",
       "</div>"
      ],
      "text/plain": [
       "          0         1         2         3         4\n",
       "0 -1.068639 -0.909101 -0.301174 -1.010356 -0.570019\n",
       "1 -1.148840 -1.032013 -0.306563 -1.176676 -1.280965\n",
       "2 -1.198965 -1.462203 -0.305537 -1.403055 -1.209871"
      ]
     },
     "execution_count": 75,
     "metadata": {},
     "output_type": "execute_result"
    }
   ],
   "source": [
    "x2.head(3)"
   ]
  },
  {
   "cell_type": "code",
   "execution_count": 76,
   "id": "77d65769-fd72-499b-ab86-536a6dcc88ba",
   "metadata": {},
   "outputs": [
    {
     "data": {
      "text/plain": [
       "1.1686558153949016e-16"
      ]
     },
     "execution_count": 76,
     "metadata": {},
     "output_type": "execute_result"
    }
   ],
   "source": [
    "x2[0].mean()"
   ]
  },
  {
   "cell_type": "code",
   "execution_count": 77,
   "id": "33963cd4-8fe2-4aca-8776-da7cd5f6df3b",
   "metadata": {},
   "outputs": [
    {
     "data": {
      "text/plain": [
       "1.001098297969686"
      ]
     },
     "execution_count": 77,
     "metadata": {},
     "output_type": "execute_result"
    }
   ],
   "source": [
    "x2[0].std()"
   ]
  },
  {
   "cell_type": "code",
   "execution_count": 78,
   "id": "b0b8aecb-05a9-4954-a2f4-21ed91d72328",
   "metadata": {},
   "outputs": [],
   "source": [
    "mm=MinMaxScaler()"
   ]
  },
  {
   "cell_type": "code",
   "execution_count": 79,
   "id": "f8bdd5cc-e416-416b-8323-83867a11ee75",
   "metadata": {},
   "outputs": [],
   "source": [
    "x3=mm.fit_transform(x)"
   ]
  },
  {
   "cell_type": "code",
   "execution_count": 80,
   "id": "f80c54ec-cf96-4bdb-9b9a-c582a169a10f",
   "metadata": {},
   "outputs": [],
   "source": [
    "x3=pd.DataFrame(x3)"
   ]
  },
  {
   "cell_type": "code",
   "execution_count": 81,
   "id": "21f91f1e-e67d-452c-b363-bf187160432b",
   "metadata": {},
   "outputs": [
    {
     "data": {
      "text/plain": [
       "0.3142770719903207"
      ]
     },
     "execution_count": 81,
     "metadata": {},
     "output_type": "execute_result"
    }
   ],
   "source": [
    "x3[0].mean()"
   ]
  },
  {
   "cell_type": "code",
   "execution_count": 82,
   "id": "cbdba30d-e256-4492-ad63-a4a29d397f40",
   "metadata": {},
   "outputs": [
    {
     "data": {
      "text/plain": [
       "0.0"
      ]
     },
     "execution_count": 82,
     "metadata": {},
     "output_type": "execute_result"
    }
   ],
   "source": [
    "x3[0].min()"
   ]
  },
  {
   "cell_type": "code",
   "execution_count": 83,
   "id": "86e21749-7313-4a73-90b6-8aa8b7e17ccf",
   "metadata": {},
   "outputs": [],
   "source": [
    "mm2=MinMaxScaler(feature_range=(0,10))"
   ]
  },
  {
   "cell_type": "code",
   "execution_count": 85,
   "id": "745791c5-03c9-4476-a466-bff93878cdb3",
   "metadata": {},
   "outputs": [
    {
     "data": {
      "text/html": [
       "<div>\n",
       "<style scoped>\n",
       "    .dataframe tbody tr th:only-of-type {\n",
       "        vertical-align: middle;\n",
       "    }\n",
       "\n",
       "    .dataframe tbody tr th {\n",
       "        vertical-align: top;\n",
       "    }\n",
       "\n",
       "    .dataframe thead th {\n",
       "        text-align: right;\n",
       "    }\n",
       "</style>\n",
       "<table border=\"1\" class=\"dataframe\">\n",
       "  <thead>\n",
       "    <tr style=\"text-align: right;\">\n",
       "      <th></th>\n",
       "      <th>0</th>\n",
       "      <th>1</th>\n",
       "      <th>2</th>\n",
       "      <th>3</th>\n",
       "      <th>4</th>\n",
       "    </tr>\n",
       "  </thead>\n",
       "  <tbody>\n",
       "    <tr>\n",
       "      <th>0</th>\n",
       "      <td>0.517241</td>\n",
       "      <td>2.159091</td>\n",
       "      <td>0.008139</td>\n",
       "      <td>0.745415</td>\n",
       "      <td>1.839080</td>\n",
       "    </tr>\n",
       "    <tr>\n",
       "      <th>1</th>\n",
       "      <td>0.320197</td>\n",
       "      <td>1.931818</td>\n",
       "      <td>0.001017</td>\n",
       "      <td>0.442537</td>\n",
       "      <td>0.689655</td>\n",
       "    </tr>\n",
       "    <tr>\n",
       "      <th>2</th>\n",
       "      <td>0.197044</td>\n",
       "      <td>1.136364</td>\n",
       "      <td>0.002374</td>\n",
       "      <td>0.030288</td>\n",
       "      <td>0.804598</td>\n",
       "    </tr>\n",
       "  </tbody>\n",
       "</table>\n",
       "</div>"
      ],
      "text/plain": [
       "          0         1         2         3         4\n",
       "0  0.517241  2.159091  0.008139  0.745415  1.839080\n",
       "1  0.320197  1.931818  0.001017  0.442537  0.689655\n",
       "2  0.197044  1.136364  0.002374  0.030288  0.804598"
      ]
     },
     "execution_count": 85,
     "metadata": {},
     "output_type": "execute_result"
    }
   ],
   "source": [
    "x4=mm2.fit_transform(x)\n",
    "x4=pd.DataFrame(x4)\n",
    "x4.head(3)"
   ]
  },
  {
   "cell_type": "code",
   "execution_count": 88,
   "id": "e37e077d-8053-45ef-8231-45b0ac062f6b",
   "metadata": {},
   "outputs": [
    {
     "data": {
      "text/plain": [
       "0.0"
      ]
     },
     "execution_count": 88,
     "metadata": {},
     "output_type": "execute_result"
    }
   ],
   "source": [
    "x4[0].min()"
   ]
  },
  {
   "cell_type": "code",
   "execution_count": null,
   "id": "d58c55d6-dc22-49c6-9ca8-d28eb46d2c3f",
   "metadata": {},
   "outputs": [],
   "source": []
  }
 ],
 "metadata": {
  "kernelspec": {
   "display_name": "Python 3 (ipykernel)",
   "language": "python",
   "name": "python3"
  },
  "language_info": {
   "codemirror_mode": {
    "name": "ipython",
    "version": 3
   },
   "file_extension": ".py",
   "mimetype": "text/x-python",
   "name": "python",
   "nbconvert_exporter": "python",
   "pygments_lexer": "ipython3",
   "version": "3.11.4"
  }
 },
 "nbformat": 4,
 "nbformat_minor": 5
}
